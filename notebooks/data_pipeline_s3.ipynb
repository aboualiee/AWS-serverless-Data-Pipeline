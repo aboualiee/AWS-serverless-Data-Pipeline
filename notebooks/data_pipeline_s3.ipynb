{
 "cells": [
  {
   "cell_type": "code",
   "execution_count": 2,
   "id": "df14abf0",
   "metadata": {},
   "outputs": [],
   "source": [
    "from aws_helpers.s3_helper import upload_to_s3"
   ]
  },
  {
   "cell_type": "code",
   "execution_count": null,
   "id": "495cc1a5",
   "metadata": {},
   "outputs": [
    {
     "name": "stdout",
     "output_type": "stream",
     "text": [
      "Bucket 'nyc-taxi-analytics-project' exists.\n",
      "File uploaded to s3://nyc-taxi-analytics-project/raw-data/train.csv\n"
     ]
    },
    {
     "data": {
      "text/plain": [
       "True"
      ]
     },
     "execution_count": 3,
     "metadata": {},
     "output_type": "execute_result"
    }
   ],
   "source": [
    "# Create nyc-taxi-analytics-project bucket (if it does not exist), raw-data folder and Upload train.csv in it\n",
    "upload_to_s3(\n",
    "    file_path=\"../data/train.csv\", \n",
    "    bucket_name=\"nyc-taxi-analytics-project\", \n",
    "    object_name=\"raw-data/train.csv\"\n",
    ")"
   ]
  },
  {
   "cell_type": "code",
   "execution_count": 4,
   "id": "86485bfb",
   "metadata": {},
   "outputs": [
    {
     "name": "stdout",
     "output_type": "stream",
     "text": [
      "Bucket 'nyc-taxi-analytics-project' exists.\n",
      "File uploaded to s3://nyc-taxi-analytics-project/raw-data/test_eventbridge.csv\n"
     ]
    },
    {
     "data": {
      "text/plain": [
       "True"
      ]
     },
     "execution_count": 4,
     "metadata": {},
     "output_type": "execute_result"
    }
   ],
   "source": [
    "# Upload a test_eventbridge.csv file to the raw-data folder \n",
    "upload_to_s3(\n",
    "    file_path=\"../data/test_eventbridge.csv\",\n",
    "    bucket_name=\"nyc-taxi-analytics-project\", \n",
    "    object_name=\"raw-data/test_eventbridge.csv\" \n",
    ")"
   ]
  },
  {
   "cell_type": "code",
   "execution_count": 5,
   "id": "55488209",
   "metadata": {},
   "outputs": [
    {
     "name": "stdout",
     "output_type": "stream",
     "text": [
      "Bucket 'nyc-taxi-analytics-project' exists.\n",
      "File uploaded to s3://nyc-taxi-analytics-project/raw-data/test_small.csv\n"
     ]
    },
    {
     "data": {
      "text/plain": [
       "True"
      ]
     },
     "execution_count": 5,
     "metadata": {},
     "output_type": "execute_result"
    }
   ],
   "source": [
    "# Upload a test_small.csv file to the raw-data folder \n",
    "upload_to_s3(\n",
    "    file_path=\"../data/test_small.csv\",\n",
    "    bucket_name=\"nyc-taxi-analytics-project\", \n",
    "    object_name=\"raw-data/test_small.csv\" \n",
    ")"
   ]
  },
  {
   "cell_type": "code",
   "execution_count": 6,
   "id": "5305e6b1",
   "metadata": {},
   "outputs": [],
   "source": [
    "# Create other folders (processed-data, aggregations, emr-results, athena-results) with a .txt placeholder file\n",
    "placeholder_file = \"placeholder.txt\" \n",
    "\n",
    "with open(placeholder_file, 'w') as f:\n",
    "    f.write(\"This is a placeholder file to create the folder structure\")"
   ]
  },
  {
   "cell_type": "code",
   "execution_count": null,
   "id": "a3b3bbb3",
   "metadata": {},
   "outputs": [],
   "source": [
    "# Create processed-data folder inside the nyc-taxi-analytics-project bucket and upload the placeholder file\n",
    "upload_to_s3(\n",
    "    file_path=placeholder_file, \n",
    "    bucket_name=\"nyc-taxi-analytics-project\", \n",
    "    object_name=\"processed-data/placeholder.txt\"\n",
    ")   "
   ]
  },
  {
   "cell_type": "code",
   "execution_count": null,
   "id": "150a8c78",
   "metadata": {},
   "outputs": [],
   "source": [
    "# Create aggregations folder inside the nyc-taxi-analytics-project bucket and upload the placeholder file\n",
    "upload_to_s3(\n",
    "    file_path=placeholder_file, \n",
    "    bucket_name=\"nyc-taxi-analytics-project\", \n",
    "    object_name=\"aggregations/placeholder.txt\"\n",
    ")"
   ]
  },
  {
   "cell_type": "code",
   "execution_count": null,
   "id": "31d6b16b",
   "metadata": {},
   "outputs": [],
   "source": [
    "# Create emr-results folder inside the nyc-taxi-analytics-project bucket and upload the placeholder file\n",
    "upload_to_s3(\n",
    "    file_path=placeholder_file, \n",
    "    bucket_name=\"nyc-taxi-analytics-project\", \n",
    "    object_name=\"emr-results/placeholder.txt\"\n",
    ")"
   ]
  },
  {
   "cell_type": "code",
   "execution_count": null,
   "id": "a42dc752",
   "metadata": {},
   "outputs": [],
   "source": [
    "# Create athena-results folder inside the nyc-taxi-analytics-project bucket and upload the placeholder file\n",
    "upload_to_s3(\n",
    "    file_path=placeholder_file, \n",
    "    bucket_name=\"nyc-taxi-analytics-project\", \n",
    "    object_name=\"athena-results/placeholder.txt\"\n",
    ")"
   ]
  },
  {
   "cell_type": "code",
   "execution_count": null,
   "id": "95b6062b",
   "metadata": {},
   "outputs": [],
   "source": [
    "# Create script folder to store spark analysis script and upload the script\n",
    "upload_to_s3(\n",
    "    file_path= \"../scripts/nyc_taxi_spark_analysis.py\", \n",
    "    bucket_name=\"nyc-taxi-analytics-project\", \n",
    "    object_name=\"scripts/nyc_taxi_spark_analysis.py\"\n",
    ")"
   ]
  },
  {
   "cell_type": "code",
   "execution_count": 8,
   "id": "e9ffd4e4",
   "metadata": {},
   "outputs": [
    {
     "name": "stdout",
     "output_type": "stream",
     "text": [
      "Bucket 'nyc-taxi-analytics-project' exists.\n",
      "File uploaded to s3://nyc-taxi-analytics-project/cloudformation/nyc_taxi_analytics_template.yaml\n"
     ]
    },
    {
     "data": {
      "text/plain": [
       "True"
      ]
     },
     "execution_count": 8,
     "metadata": {},
     "output_type": "execute_result"
    }
   ],
   "source": [
    "# Create cloudformation folder to store the cloudformation template and upload the template\n",
    "upload_to_s3(\n",
    "    file_path= \"../cloudformation/nyc_taxi_analytics_template.yaml\", \n",
    "    bucket_name=\"nyc-taxi-analytics-project\", \n",
    "    object_name=\"cloudformation/nyc_taxi_analytics_template.yaml\"\n",
    ")"
   ]
  }
 ],
 "metadata": {
  "kernelspec": {
   "display_name": "Python 3",
   "language": "python",
   "name": "python3"
  },
  "language_info": {
   "codemirror_mode": {
    "name": "ipython",
    "version": 3
   },
   "file_extension": ".py",
   "mimetype": "text/x-python",
   "name": "python",
   "nbconvert_exporter": "python",
   "pygments_lexer": "ipython3",
   "version": "3.11.11"
  }
 },
 "nbformat": 4,
 "nbformat_minor": 5
}
